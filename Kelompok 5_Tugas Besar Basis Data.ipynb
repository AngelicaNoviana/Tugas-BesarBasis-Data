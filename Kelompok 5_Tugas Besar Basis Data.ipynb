{
 "cells": [
  {
   "cell_type": "markdown",
   "id": "7c1c8e26",
   "metadata": {},
   "source": [
    "# INSTALL LIBRARY"
   ]
  },
  {
   "cell_type": "code",
   "execution_count": 28,
   "id": "889532df",
   "metadata": {},
   "outputs": [
    {
     "name": "stdout",
     "output_type": "stream",
     "text": [
      "Requirement already satisfied: pandas in c:\\users\\lenovo\\anaconda3\\lib\\site-packages (1.5.3)\n",
      "Requirement already satisfied: pytz>=2020.1 in c:\\users\\lenovo\\anaconda3\\lib\\site-packages (from pandas) (2022.7)\n",
      "Requirement already satisfied: numpy>=1.21.0 in c:\\users\\lenovo\\anaconda3\\lib\\site-packages (from pandas) (1.23.5)\n",
      "Requirement already satisfied: python-dateutil>=2.8.1 in c:\\users\\lenovo\\appdata\\roaming\\python\\python310\\site-packages (from pandas) (2.8.2)\n",
      "Requirement already satisfied: six>=1.5 in c:\\users\\lenovo\\appdata\\roaming\\python\\python310\\site-packages (from python-dateutil>=2.8.1->pandas) (1.16.0)\n",
      "Requirement already satisfied: pymysql in c:\\users\\lenovo\\anaconda3\\lib\\site-packages (1.0.3)\n",
      "Requirement already satisfied: ipython-sql in c:\\users\\lenovo\\anaconda3\\lib\\site-packages (0.5.0)\n",
      "Requirement already satisfied: sqlalchemy>=2.0 in c:\\users\\lenovo\\anaconda3\\lib\\site-packages (from ipython-sql) (2.0.13)\n",
      "Requirement already satisfied: six in c:\\users\\lenovo\\appdata\\roaming\\python\\python310\\site-packages (from ipython-sql) (1.16.0)\n",
      "Requirement already satisfied: ipython in c:\\users\\lenovo\\appdata\\roaming\\python\\python310\\site-packages (from ipython-sql) (8.5.0)\n",
      "Requirement already satisfied: ipython-genutils in c:\\users\\lenovo\\anaconda3\\lib\\site-packages (from ipython-sql) (0.2.0)\n",
      "Requirement already satisfied: sqlparse in c:\\users\\lenovo\\anaconda3\\lib\\site-packages (from ipython-sql) (0.4.4)\n",
      "Requirement already satisfied: prettytable in c:\\users\\lenovo\\anaconda3\\lib\\site-packages (from ipython-sql) (3.7.0)\n",
      "Requirement already satisfied: greenlet!=0.4.17 in c:\\users\\lenovo\\anaconda3\\lib\\site-packages (from sqlalchemy>=2.0->ipython-sql) (2.0.1)\n",
      "Requirement already satisfied: typing-extensions>=4.2.0 in c:\\users\\lenovo\\anaconda3\\lib\\site-packages (from sqlalchemy>=2.0->ipython-sql) (4.4.0)\n",
      "Requirement already satisfied: decorator in c:\\users\\lenovo\\appdata\\roaming\\python\\python310\\site-packages (from ipython->ipython-sql) (5.1.1)\n",
      "Requirement already satisfied: backcall in c:\\users\\lenovo\\appdata\\roaming\\python\\python310\\site-packages (from ipython->ipython-sql) (0.2.0)\n",
      "Requirement already satisfied: colorama in c:\\users\\lenovo\\appdata\\roaming\\python\\python310\\site-packages (from ipython->ipython-sql) (0.4.5)\n",
      "Requirement already satisfied: pickleshare in c:\\users\\lenovo\\appdata\\roaming\\python\\python310\\site-packages (from ipython->ipython-sql) (0.7.5)\n",
      "Requirement already satisfied: pygments>=2.4.0 in c:\\users\\lenovo\\appdata\\roaming\\python\\python310\\site-packages (from ipython->ipython-sql) (2.13.0)\n",
      "Requirement already satisfied: matplotlib-inline in c:\\users\\lenovo\\appdata\\roaming\\python\\python310\\site-packages (from ipython->ipython-sql) (0.1.6)\n",
      "Requirement already satisfied: traitlets>=5 in c:\\users\\lenovo\\appdata\\roaming\\python\\python310\\site-packages (from ipython->ipython-sql) (5.4.0)\n",
      "Requirement already satisfied: stack-data in c:\\users\\lenovo\\appdata\\roaming\\python\\python310\\site-packages (from ipython->ipython-sql) (0.5.0)\n",
      "Requirement already satisfied: prompt-toolkit<3.1.0,>3.0.1 in c:\\users\\lenovo\\appdata\\roaming\\python\\python310\\site-packages (from ipython->ipython-sql) (3.0.31)\n",
      "Requirement already satisfied: jedi>=0.16 in c:\\users\\lenovo\\appdata\\roaming\\python\\python310\\site-packages (from ipython->ipython-sql) (0.18.1)\n",
      "Requirement already satisfied: wcwidth in c:\\users\\lenovo\\appdata\\roaming\\python\\python310\\site-packages (from prettytable->ipython-sql) (0.2.5)\n",
      "Requirement already satisfied: parso<0.9.0,>=0.8.0 in c:\\users\\lenovo\\appdata\\roaming\\python\\python310\\site-packages (from jedi>=0.16->ipython->ipython-sql) (0.8.3)\n",
      "Requirement already satisfied: pure-eval in c:\\users\\lenovo\\appdata\\roaming\\python\\python310\\site-packages (from stack-data->ipython->ipython-sql) (0.2.2)\n",
      "Requirement already satisfied: executing in c:\\users\\lenovo\\appdata\\roaming\\python\\python310\\site-packages (from stack-data->ipython->ipython-sql) (1.0.0)\n",
      "Requirement already satisfied: asttokens in c:\\users\\lenovo\\appdata\\roaming\\python\\python310\\site-packages (from stack-data->ipython->ipython-sql) (2.0.8)\n",
      "Requirement already satisfied: mysqlclient in c:\\users\\lenovo\\anaconda3\\lib\\site-packages (2.1.1)\n",
      "Collecting mysql-connector-python\n",
      "  Downloading mysql_connector_python-8.0.33-cp310-cp310-win_amd64.whl (9.6 MB)\n",
      "     ---------------------------------------- 9.6/9.6 MB 242.8 kB/s eta 0:00:00\n",
      "Collecting protobuf<=3.20.3,>=3.11.0\n",
      "  Downloading protobuf-3.20.3-cp310-cp310-win_amd64.whl (904 kB)\n",
      "     ------------------------------------ 904.0/904.0 kB 374.0 kB/s eta 0:00:00\n",
      "Installing collected packages: protobuf, mysql-connector-python\n",
      "Successfully installed mysql-connector-python-8.0.33 protobuf-3.20.3\n"
     ]
    }
   ],
   "source": [
    "!pip install pandas\n",
    "! pip3 install pymysql\n",
    "! pip3 install ipython-sql\n",
    "! pip3 install mysqlclient\n",
    "! pip3 install mysql-connector-python"
   ]
  },
  {
   "cell_type": "code",
   "execution_count": 2,
   "id": "cfa217e5",
   "metadata": {},
   "outputs": [],
   "source": [
    "import numpy as np \n",
    "import sklearn \n",
    "import os\n",
    "import pymysql\n",
    "import pandas as pd\n",
    "import mysql.connector"
   ]
  },
  {
   "cell_type": "markdown",
   "id": "0b29b21f",
   "metadata": {},
   "source": [
    "# inisiasi attributes"
   ]
  },
  {
   "cell_type": "code",
   "execution_count": 3,
   "id": "fc337e63",
   "metadata": {},
   "outputs": [],
   "source": [
    "\n",
    "\n",
    "db_name = \"house\"\n",
    "db_host = \"localhost\"\n",
    "db_username = \"root\"\n",
    "db_password = \"\""
   ]
  },
  {
   "cell_type": "markdown",
   "id": "9ccfef4f",
   "metadata": {},
   "source": [
    "# Connect to mysql"
   ]
  },
  {
   "cell_type": "code",
   "execution_count": 4,
   "id": "de67d4d3",
   "metadata": {},
   "outputs": [
    {
     "name": "stdout",
     "output_type": "stream",
     "text": [
      "Error creating database: 1007 (HY000): Can't create database 'housing_data'; database exists\n",
      "MySQL connection is closed\n"
     ]
    }
   ],
   "source": [
    "import mysql.connector\n",
    "from mysql.connector import Error\n",
    "\n",
    "try:\n",
    "    connection = mysql.connector.connect(\n",
    "        host='localhost',\n",
    "        user='root',\n",
    "        password=''\n",
    "    )\n",
    "\n",
    "    cursor = connection.cursor()\n",
    "    cursor.execute(\"CREATE DATABASE housing_data\")\n",
    "    print(\"Database created successfully\")\n",
    "\n",
    "except mysql.connector.Error as error:\n",
    "    print(\"Error creating database: {}\".format(error))\n",
    "finally:\n",
    "    if 'connection' in locals() and connection.is_connected():\n",
    "        cursor.close()\n",
    "        connection.close()\n",
    "        print(\"MySQL connection is closed\")"
   ]
  },
  {
   "cell_type": "markdown",
   "id": "28cb3275",
   "metadata": {},
   "source": [
    "PANGGIL DATA"
   ]
  },
  {
   "cell_type": "code",
   "execution_count": 5,
   "id": "72e54075",
   "metadata": {},
   "outputs": [],
   "source": [
    "data_frame = pd.read_csv('~/Downloads/housing.csv')"
   ]
  },
  {
   "cell_type": "code",
   "execution_count": 6,
   "id": "43b63b81",
   "metadata": {},
   "outputs": [],
   "source": [
    "# masuk kedalam extension mysql\n",
    "\n",
    "%load_ext sql"
   ]
  },
  {
   "cell_type": "code",
   "execution_count": 7,
   "id": "2df9a3a6",
   "metadata": {},
   "outputs": [],
   "source": [
    "# membuat koneksi ke database MySQL\n",
    "\n",
    "%sql mysql+mysqldb://root@localhost"
   ]
  },
  {
   "cell_type": "code",
   "execution_count": 8,
   "id": "329562e4",
   "metadata": {},
   "outputs": [
    {
     "name": "stdout",
     "output_type": "stream",
     "text": [
      " * mysql+mysqldb://root@localhost\n",
      "8 rows affected.\n"
     ]
    },
    {
     "data": {
      "text/html": [
       "<table>\n",
       "    <thead>\n",
       "        <tr>\n",
       "            <th>Database</th>\n",
       "        </tr>\n",
       "    </thead>\n",
       "    <tbody>\n",
       "        <tr>\n",
       "            <td>data_mahasiswa</td>\n",
       "        </tr>\n",
       "        <tr>\n",
       "            <td>housing_data</td>\n",
       "        </tr>\n",
       "        <tr>\n",
       "            <td>information_schema</td>\n",
       "        </tr>\n",
       "        <tr>\n",
       "            <td>mysql</td>\n",
       "        </tr>\n",
       "        <tr>\n",
       "            <td>performance_schema</td>\n",
       "        </tr>\n",
       "        <tr>\n",
       "            <td>phpmyadmin</td>\n",
       "        </tr>\n",
       "        <tr>\n",
       "            <td>produk1</td>\n",
       "        </tr>\n",
       "        <tr>\n",
       "            <td>test</td>\n",
       "        </tr>\n",
       "    </tbody>\n",
       "</table>"
      ],
      "text/plain": [
       "[('data_mahasiswa',),\n",
       " ('housing_data',),\n",
       " ('information_schema',),\n",
       " ('mysql',),\n",
       " ('performance_schema',),\n",
       " ('phpmyadmin',),\n",
       " ('produk1',),\n",
       " ('test',)]"
      ]
     },
     "execution_count": 8,
     "metadata": {},
     "output_type": "execute_result"
    }
   ],
   "source": [
    "%sql show databases;"
   ]
  },
  {
   "cell_type": "code",
   "execution_count": 9,
   "id": "8aef210c",
   "metadata": {},
   "outputs": [
    {
     "name": "stdout",
     "output_type": "stream",
     "text": [
      " * mysql+mysqldb://root@localhost\n",
      "0 rows affected.\n"
     ]
    },
    {
     "data": {
      "text/plain": [
       "[]"
      ]
     },
     "execution_count": 9,
     "metadata": {},
     "output_type": "execute_result"
    }
   ],
   "source": [
    "%sql USE housing_data;"
   ]
  },
  {
   "cell_type": "code",
   "execution_count": 10,
   "id": "ba7bb332",
   "metadata": {},
   "outputs": [
    {
     "name": "stdout",
     "output_type": "stream",
     "text": [
      " * mysql+mysqldb://root@localhost\n",
      "(MySQLdb.OperationalError) (1050, \"Table 'housing_data1' already exists\")\n",
      "[SQL: CREATE TABLE housing_data1 (\n",
      "    longitude FLOAT,\n",
      "    latitude FLOAT,\n",
      "    housing_median_age INT,\n",
      "    total_rooms INT,\n",
      "    total_bedrooms INT,\n",
      "    population INT,\n",
      "    households INT,\n",
      "    median_income FLOAT,\n",
      "    median_house_value FLOAT,\n",
      "    ocean_proximity CHAR\n",
      ");]\n",
      "(Background on this error at: https://sqlalche.me/e/20/e3q8)\n"
     ]
    }
   ],
   "source": [
    "%%sql\n",
    "CREATE TABLE housing_data1 (\n",
    "    longitude FLOAT,\n",
    "    latitude FLOAT,\n",
    "    housing_median_age INT,\n",
    "    total_rooms INT,\n",
    "    total_bedrooms INT,\n",
    "    population INT,\n",
    "    households INT,\n",
    "    median_income FLOAT,\n",
    "    median_house_value FLOAT,\n",
    "    ocean_proximity CHAR\n",
    ");"
   ]
  },
  {
   "cell_type": "code",
   "execution_count": 11,
   "id": "a6f78f2c",
   "metadata": {},
   "outputs": [
    {
     "name": "stdout",
     "output_type": "stream",
     "text": [
      " * mysql+mysqldb://root@localhost\n",
      "(MySQLdb.OperationalError) (1051, \"Unknown table 'housing_data.housing_data'\")\n",
      "[SQL: drop table housing_data;]\n",
      "(Background on this error at: https://sqlalche.me/e/20/e3q8)\n"
     ]
    }
   ],
   "source": [
    "%sql drop table housing_data;"
   ]
  },
  {
   "cell_type": "code",
   "execution_count": 12,
   "id": "13e2e2d4",
   "metadata": {},
   "outputs": [
    {
     "name": "stdout",
     "output_type": "stream",
     "text": [
      " * mysql+mysqldb://root@localhost\n",
      "3 rows affected.\n"
     ]
    },
    {
     "data": {
      "text/html": [
       "<table>\n",
       "    <thead>\n",
       "        <tr>\n",
       "            <th>Tables_in_housing_data</th>\n",
       "        </tr>\n",
       "    </thead>\n",
       "    <tbody>\n",
       "        <tr>\n",
       "            <td>housing_data1</td>\n",
       "        </tr>\n",
       "        <tr>\n",
       "            <td>housing_details</td>\n",
       "        </tr>\n",
       "        <tr>\n",
       "            <td>housing_location</td>\n",
       "        </tr>\n",
       "    </tbody>\n",
       "</table>"
      ],
      "text/plain": [
       "[('housing_data1',), ('housing_details',), ('housing_location',)]"
      ]
     },
     "execution_count": 12,
     "metadata": {},
     "output_type": "execute_result"
    }
   ],
   "source": [
    "%sql show tables;"
   ]
  },
  {
   "cell_type": "code",
   "execution_count": 13,
   "id": "cf7aef56",
   "metadata": {},
   "outputs": [
    {
     "name": "stdout",
     "output_type": "stream",
     "text": [
      " * mysql+mysqldb://root@localhost\n",
      "20640 rows affected.\n"
     ]
    },
    {
     "data": {
      "text/plain": [
       "[]"
      ]
     },
     "execution_count": 13,
     "metadata": {},
     "output_type": "execute_result"
    }
   ],
   "source": [
    "\n",
    "%%sql\n",
    "\n",
    "LOAD DATA LOCAL INFILE 'housing.csv' \n",
    "INTO TABLE housing_data1\n",
    "FIELDS TERMINATED BY ',' \n",
    "ENCLOSED BY '\"' \n",
    "LINES TERMINATED BY '\\n'\n",
    "IGNORE 1 ROWS;"
   ]
  },
  {
   "cell_type": "code",
   "execution_count": 14,
   "id": "fd6cf376",
   "metadata": {},
   "outputs": [
    {
     "name": "stdout",
     "output_type": "stream",
     "text": [
      " * mysql+mysqldb://root@localhost\n",
      "1 rows affected.\n"
     ]
    },
    {
     "data": {
      "text/html": [
       "<table>\n",
       "    <thead>\n",
       "        <tr>\n",
       "            <th>Variable_name</th>\n",
       "            <th>Value</th>\n",
       "        </tr>\n",
       "    </thead>\n",
       "    <tbody>\n",
       "        <tr>\n",
       "            <td>local_infile</td>\n",
       "            <td>ON</td>\n",
       "        </tr>\n",
       "    </tbody>\n",
       "</table>"
      ],
      "text/plain": [
       "[('local_infile', 'ON')]"
      ]
     },
     "execution_count": 14,
     "metadata": {},
     "output_type": "execute_result"
    }
   ],
   "source": [
    "%%sql \n",
    "\n",
    "show variables like 'local_infile'"
   ]
  },
  {
   "cell_type": "markdown",
   "id": "7ee45a1a",
   "metadata": {},
   "source": [
    "# Normalisasi 2NF\n",
    "Pada contoh di atas, normalisasi 2NF dilakukan dengan membagi data ke dalam dua tabel: housing_location dan housing_details. "
   ]
  },
  {
   "cell_type": "code",
   "execution_count": 15,
   "id": "5d3a9ee3",
   "metadata": {},
   "outputs": [
    {
     "name": "stdout",
     "output_type": "stream",
     "text": [
      " * mysql+mysqldb://root@localhost\n",
      "(MySQLdb.OperationalError) (1050, \"Table 'housing_location' already exists\")\n",
      "[SQL: -- Tabel pertama: housing_location\n",
      "CREATE TABLE housing_location (\n",
      "    location_id INTEGER PRIMARY KEY,\n",
      "    longitude FLOAT,\n",
      "    latitude FLOAT,\n",
      "    ocean_proximity VARCHAR(50)\n",
      ");]\n",
      "(Background on this error at: https://sqlalche.me/e/20/e3q8)\n"
     ]
    }
   ],
   "source": [
    "\n",
    "%%sql\n",
    "-- Tabel pertama: housing_location\n",
    "CREATE TABLE housing_location (\n",
    "    location_id INTEGER PRIMARY KEY,\n",
    "    longitude FLOAT,\n",
    "    latitude FLOAT,\n",
    "    ocean_proximity VARCHAR(50)\n",
    ");\n",
    "\n",
    "-- Tabel kedua: housing_details\n",
    "CREATE TABLE housing_details (\n",
    "    housing_id INTEGER PRIMARY KEY,\n",
    "    location_id INTEGER,\n",
    "    housing_median_age INT,\n",
    "    total_rooms INT,\n",
    "    total_bedrooms INT,\n",
    "    population INT,\n",
    "    households INT,\n",
    "    median_income FLOAT,\n",
    "    median_house_value FLOAT,\n",
    "    FOREIGN KEY (location_id) REFERENCES housing_location(location_id)\n",
    ");"
   ]
  },
  {
   "cell_type": "markdown",
   "id": "e8f585c4",
   "metadata": {},
   "source": [
    "# Menampilkan Record Pada Tabel"
   ]
  },
  {
   "cell_type": "code",
   "execution_count": 16,
   "id": "ab70a210",
   "metadata": {},
   "outputs": [
    {
     "name": "stdout",
     "output_type": "stream",
     "text": [
      " * mysql+mysqldb://root@localhost\n",
      "1 rows affected.\n"
     ]
    },
    {
     "data": {
      "text/html": [
       "<table>\n",
       "    <thead>\n",
       "        <tr>\n",
       "            <th>housing_id</th>\n",
       "            <th>location_id</th>\n",
       "            <th>housing_median_age</th>\n",
       "            <th>total_rooms</th>\n",
       "            <th>total_bedrooms</th>\n",
       "            <th>population</th>\n",
       "            <th>households</th>\n",
       "            <th>median_income</th>\n",
       "            <th>median_house_value</th>\n",
       "        </tr>\n",
       "    </thead>\n",
       "    <tbody>\n",
       "        <tr>\n",
       "            <td>1</td>\n",
       "            <td>1</td>\n",
       "            <td>20</td>\n",
       "            <td>100</td>\n",
       "            <td>50</td>\n",
       "            <td>200</td>\n",
       "            <td>80</td>\n",
       "            <td>5000.0</td>\n",
       "            <td>200000.0</td>\n",
       "        </tr>\n",
       "    </tbody>\n",
       "</table>"
      ],
      "text/plain": [
       "[(1, 1, 20, 100, 50, 200, 80, 5000.0, 200000.0)]"
      ]
     },
     "execution_count": 16,
     "metadata": {},
     "output_type": "execute_result"
    }
   ],
   "source": [
    "%%sql\n",
    "SELECT * FROM housing_details;"
   ]
  },
  {
   "cell_type": "code",
   "execution_count": 17,
   "id": "b44bd842",
   "metadata": {},
   "outputs": [
    {
     "name": "stdout",
     "output_type": "stream",
     "text": [
      " * mysql+mysqldb://root@localhost\n",
      "2 rows affected.\n"
     ]
    },
    {
     "data": {
      "text/html": [
       "<table>\n",
       "    <thead>\n",
       "        <tr>\n",
       "            <th>location_id</th>\n",
       "            <th>longitude</th>\n",
       "            <th>latitude</th>\n",
       "            <th>ocean_proximity</th>\n",
       "        </tr>\n",
       "    </thead>\n",
       "    <tbody>\n",
       "        <tr>\n",
       "            <td>1</td>\n",
       "            <td>123.45</td>\n",
       "            <td>67.89</td>\n",
       "            <td>Near Beach</td>\n",
       "        </tr>\n",
       "        <tr>\n",
       "            <td>2</td>\n",
       "            <td>54.32</td>\n",
       "            <td>12.34</td>\n",
       "            <td>Inland</td>\n",
       "        </tr>\n",
       "    </tbody>\n",
       "</table>"
      ],
      "text/plain": [
       "[(1, 123.45, 67.89, 'Near Beach'), (2, 54.32, 12.34, 'Inland')]"
      ]
     },
     "execution_count": 17,
     "metadata": {},
     "output_type": "execute_result"
    }
   ],
   "source": [
    "%%sql\n",
    "SELECT * FROM housing_location;"
   ]
  },
  {
   "cell_type": "code",
   "execution_count": null,
   "id": "19ff0733",
   "metadata": {},
   "outputs": [],
   "source": [
    "%%sql\n",
    "SELECT * FROM housing_data1;"
   ]
  },
  {
   "cell_type": "markdown",
   "id": "49b684c6",
   "metadata": {},
   "source": [
    "# Syntax DML dan DDL"
   ]
  },
  {
   "cell_type": "raw",
   "id": "8f31e810",
   "metadata": {},
   "source": [
    "# A. Data Definition Language (DDL)"
   ]
  },
  {
   "cell_type": "markdown",
   "id": "daa175dd",
   "metadata": {},
   "source": [
    "Pada contoh implementasi berikut, DDL digunakan untuk membuat tabel housing_location dan housing_details dengan kolom-kolom yang sesuai. Kemudian, DML digunakan untuk memasukkan data ke dalam tabel-tabel tersebut menggunakan perintah INSERT INTO."
   ]
  },
  {
   "cell_type": "markdown",
   "id": "9f34ddfe",
   "metadata": {},
   "source": [
    "%%sql\n",
    "-- Tabel pertama: housing_location\n",
    "CREATE TABLE housing_location (\n",
    "    location_id INTEGER PRIMARY KEY,\n",
    "    longitude FLOAT,\n",
    "    latitude FLOAT,\n",
    "    ocean_proximity VARCHAR(50)\n",
    ");\n",
    "\n",
    "-- Tabel kedua: housing_details\n",
    "CREATE TABLE housing_details (\n",
    "    housing_id INTEGER PRIMARY KEY,\n",
    "    location_id INTEGER,\n",
    "    housing_median_age INT,\n",
    "    total_rooms INT,\n",
    "    total_bedrooms INT,\n",
    "    population INT,\n",
    "    households INT,\n",
    "    median_income FLOAT,\n",
    "    median_house_value FLOAT,\n",
    "    FOREIGN KEY (location_id) REFERENCES housing_location(location_id)\n",
    ");"
   ]
  },
  {
   "cell_type": "markdown",
   "id": "3f9c77ee",
   "metadata": {},
   "source": [
    "# B. Data Manipulation Language (DML)"
   ]
  },
  {
   "cell_type": "markdown",
   "id": "66791bb3",
   "metadata": {},
   "source": [
    "DML : data tambahan ditambahkan ke tabel-tabel. \n",
    "Tabel housing_location menerima data untuk location_id, longitude, latitude, dan ocean_proximity."
   ]
  },
  {
   "cell_type": "code",
   "execution_count": 18,
   "id": "fb316f1f",
   "metadata": {},
   "outputs": [
    {
     "name": "stdout",
     "output_type": "stream",
     "text": [
      " * mysql+mysqldb://root@localhost\n",
      "(MySQLdb.IntegrityError) (1062, \"Duplicate entry '1' for key 'PRIMARY'\")\n",
      "[SQL: -- Insert data into housing_location table\n",
      "INSERT INTO housing_location (location_id, longitude, latitude, ocean_proximity)\n",
      "VALUES\n",
      "    (1, 123.45, 67.89, 'Near Beach'),\n",
      "    (2, 12.34, 56.78, 'Inland'),\n",
      "    (3, 98.76, 54.32, 'Near Ocean'),\n",
      "    (4, 76.54, 32.10, 'Inland'),\n",
      "    (5, 45.67, 23.45, 'Near Ocean'),\n",
      "    (6, 87.65, 43.21, 'Inland'),\n",
      "    (7, 34.56, 65.43, 'Near Beach'),\n",
      "    (8, 56.78, 12.34, 'Inland'),\n",
      "    (9, 43.21, 98.76, 'Near Ocean'),\n",
      "    (10, 23.45, 45.67, 'Inland'),\n",
      "    (11, 43.21, 87.65, 'Near Beach'),\n",
      "    (12, 32.10, 76.54, 'Inland'),\n",
      "    (13, 65.43, 34.56, 'Near Ocean'),\n",
      "    (14, 12.34, 56.78, 'Near Beach'),\n",
      "    (15, 54.32, 98.76, 'Inland'),\n",
      "    (16, 76.54, 43.21, 'Near Ocean'),\n",
      "    (17, 23.45, 34.56, 'Inland'),\n",
      "    (18, 45.67, 23.45, 'Near Beach'),\n",
      "    (19, 43.21, 12.34, 'Inland'),\n",
      "    (20, 87.65, 65.43, 'Near Ocean'),\n",
      "    (21, 98.76, 32.10, 'Inland'),\n",
      "    (22, 65.43, 87.65, 'Near Beach'),\n",
      "    (23, 34.56, 76.54, 'Inland'),\n",
      "    (24, 23.45, 45.67, 'Near Ocean'),\n",
      "    (25, 54.32, 43.21, 'Inland'),\n",
      "    (26, 12.34, 23.45, 'Near Beach'),\n",
      "    (27, 32.10, 12.34, 'Inland'),\n",
      "    (28, 56.78, 54.32, 'Near Ocean'),\n",
      "    (29, 43.21, 76.54, 'Inland'),\n",
      "    (30, 65.43, 98.76, 'Near Beach');]\n",
      "(Background on this error at: https://sqlalche.me/e/20/gkpj)\n"
     ]
    }
   ],
   "source": [
    "\n",
    "\n",
    "%%sql\n",
    "-- Insert data into housing_location table\n",
    "INSERT INTO housing_location (location_id, longitude, latitude, ocean_proximity)\n",
    "VALUES\n",
    "    (1, 123.45, 67.89, 'Near Beach'),\n",
    "    (2, 12.34, 56.78, 'Inland'),\n",
    "    (3, 98.76, 54.32, 'Near Ocean'),\n",
    "    (4, 76.54, 32.10, 'Inland'),\n",
    "    (5, 45.67, 23.45, 'Near Ocean'),\n",
    "    (6, 87.65, 43.21, 'Inland'),\n",
    "    (7, 34.56, 65.43, 'Near Beach'),\n",
    "    (8, 56.78, 12.34, 'Inland'),\n",
    "    (9, 43.21, 98.76, 'Near Ocean'),\n",
    "    (10, 23.45, 45.67, 'Inland'),\n",
    "    (11, 43.21, 87.65, 'Near Beach'),\n",
    "    (12, 32.10, 76.54, 'Inland'),\n",
    "    (13, 65.43, 34.56, 'Near Ocean'),\n",
    "    (14, 12.34, 56.78, 'Near Beach'),\n",
    "    (15, 54.32, 98.76, 'Inland'),\n",
    "    (16, 76.54, 43.21, 'Near Ocean'),\n",
    "    (17, 23.45, 34.56, 'Inland'),\n",
    "    (18, 45.67, 23.45, 'Near Beach'),\n",
    "    (19, 43.21, 12.34, 'Inland'),\n",
    "    (20, 87.65, 65.43, 'Near Ocean'),\n",
    "    (21, 98.76, 32.10, 'Inland'),\n",
    "    (22, 65.43, 87.65, 'Near Beach'),\n",
    "    (23, 34.56, 76.54, 'Inland'),\n",
    "    (24, 23.45, 45.67, 'Near Ocean'),\n",
    "    (25, 54.32, 43.21, 'Inland'),\n",
    "    (26, 12.34, 23.45, 'Near Beach'),\n",
    "    (27, 32.10, 12.34, 'Inland'),\n",
    "    (28, 56.78, 54.32, 'Near Ocean'),\n",
    "    (29, 43.21, 76.54, 'Inland'),\n",
    "    (30, 65.43, 98.76, 'Near Beach');\n",
    "\n",
    "-- Insert data into housing_details table\n",
    "INSERT INTO housing_details (housing_id, location_id, housing_median_age, total_rooms, total_bedrooms, population, households, median_income, median_house_value)\n",
    "VALUES\n",
    "    (1, 1, 20, 100, 50, 200, 80, 5000.0, 200000),\n",
    "    (2, 2, 25, 150, 75, 250, 100, 6000.0, 220000),\n",
    "    (3, 3, 30, 120, 60, 180, 70, 4500.0, 190000),\n",
    "    (4, 4, 15, 80, 40, 150, 60, 4000.0, 180000),\n",
    "    (5, 5, 20, 110, 55, 190, 75, 5500.0, 210000),\n",
    "    (6, 6, 28, 130, 65, 220, 90, 5200.0, 205000),\n",
    "    (7, 7, 18, 90, 45, 170, 68, 4800.0, 195000),\n",
    "    (8, 8, 22, 140, 70, 240, 95, 5700.0, 215000),\n",
    "    (9, 9, 26, 100, 50, 200, 80, 5100.0, 203000),\n",
    "    (10, 10, 19, 75, 38, 140, 56, 4200.0, 175000),\n",
    "    (11, 11, 23, 115, 58, 180, 72, 4700.0, 198000),\n",
    "    (12, 12, 17, 85, 42, 160, 64, 4300.0, 185000),\n",
    "    (13, 13, 21, 105, 52, 210, 84, 4900.0, 200000),\n",
    "    (14, 14, 27, 125, 62, 230, 92, 5400.0, 208000),\n",
    "    (15, 15, 16, 95, 48, 170, 68, 4600.0, 192000),\n",
    "    (16, 16, 24, 135, 68, 250, 100, 6100.0, 225000),\n",
    "    (17, 17, 29, 95, 48, 200, 80, 5100.0, 203000),\n",
    "    (18, 18, 14, 70, 35, 130, 52, 4000.0, 180000),\n",
    "    (19, 19, 18, 105, 52, 180, 72, 4700.0, 198000),\n",
    "    (20, 20, 22, 120, 60, 210, 84, 5200.0, 205000),\n",
    "    (21, 21, 27, 150, 75, 240, 96, 5800.0, 218000),\n",
    "    (22, 22, 16, 90, 45, 170, 68, 4500.0, 190000),\n",
    "    (23, 23, 20, 130, 65, 200, 80, 5000.0, 200000),\n",
    "    (24, 24, 24, 110, 55, 180, 72, 4800.0, 195000),\n",
    "    (25, 25, 29, 140, 70, 220, 88, 5500.0, 210000),\n",
    "    (26, 26, 15, 80, 40, 150, 60, 4300.0, 185000),\n",
    "    (27, 27, 19, 100, 50, 190, 76, 4700.0, 198000),\n",
    "    (28, 28, 23, 120, 60, 220, 88, 5200.0, 205000),\n",
    "    (29, 29, 28, 140, 70, 250, 100, 5900.0, 215000),\n",
    "    (30, 30, 17, 90, 45, 180, 72, 4500.0, 190000);"
   ]
  },
  {
   "cell_type": "markdown",
   "id": "f95170ef",
   "metadata": {},
   "source": [
    "# Relational Schema"
   ]
  },
  {
   "cell_type": "markdown",
   "id": "19858a28",
   "metadata": {},
   "source": [
    "Relational scheme, atau skema relasional, merujuk pada struktur dan organisasi basis data relasional. Skema relasional menggambarkan bagaimana data diorganisir ke dalam tabel,\n",
    "hubungan antar tabel, dan batasan yang berlaku pada data."
   ]
  },
  {
   "cell_type": "code",
   "execution_count": 19,
   "id": "8f48164d",
   "metadata": {},
   "outputs": [
    {
     "name": "stdout",
     "output_type": "stream",
     "text": [
      " * mysql+mysqldb://root@localhost\n",
      "1 rows affected.\n"
     ]
    },
    {
     "data": {
      "text/html": [
       "<table>\n",
       "    <thead>\n",
       "        <tr>\n",
       "            <th>Table</th>\n",
       "            <th>Create Table</th>\n",
       "        </tr>\n",
       "    </thead>\n",
       "    <tbody>\n",
       "        <tr>\n",
       "            <td>housing_location</td>\n",
       "            <td>CREATE TABLE `housing_location` (<br>  `location_id` int(11) NOT NULL,<br>  `longitude` float DEFAULT NULL,<br>  `latitude` float DEFAULT NULL,<br>  `ocean_proximity` varchar(50) DEFAULT NULL,<br>  PRIMARY KEY (`location_id`)<br>) ENGINE=InnoDB DEFAULT CHARSET=utf8mb4 COLLATE=utf8mb4_general_ci</td>\n",
       "        </tr>\n",
       "    </tbody>\n",
       "</table>"
      ],
      "text/plain": [
       "[('housing_location', 'CREATE TABLE `housing_location` (\\n  `location_id` int(11) NOT NULL,\\n  `longitude` float DEFAULT NULL,\\n  `latitude` float DEFAULT NULL,\\n  `ocean_proximity` varchar(50) DEFAULT NULL,\\n  PRIMARY KEY (`location_id`)\\n) ENGINE=InnoDB DEFAULT CHARSET=utf8mb4 COLLATE=utf8mb4_general_ci')]"
      ]
     },
     "execution_count": 19,
     "metadata": {},
     "output_type": "execute_result"
    }
   ],
   "source": [
    "%%sql\n",
    "\n",
    "SHOW CREATE TABLE housing_location;"
   ]
  },
  {
   "cell_type": "code",
   "execution_count": 20,
   "id": "729216db",
   "metadata": {},
   "outputs": [
    {
     "name": "stdout",
     "output_type": "stream",
     "text": [
      " * mysql+mysqldb://root@localhost\n",
      "1 rows affected.\n"
     ]
    },
    {
     "data": {
      "text/html": [
       "<table>\n",
       "    <thead>\n",
       "        <tr>\n",
       "            <th>Table</th>\n",
       "            <th>Create Table</th>\n",
       "        </tr>\n",
       "    </thead>\n",
       "    <tbody>\n",
       "        <tr>\n",
       "            <td>housing_location</td>\n",
       "            <td>CREATE TABLE `housing_location` (<br>  `location_id` int(11) NOT NULL,<br>  `longitude` float DEFAULT NULL,<br>  `latitude` float DEFAULT NULL,<br>  `ocean_proximity` varchar(50) DEFAULT NULL,<br>  PRIMARY KEY (`location_id`)<br>) ENGINE=InnoDB DEFAULT CHARSET=utf8mb4 COLLATE=utf8mb4_general_ci</td>\n",
       "        </tr>\n",
       "    </tbody>\n",
       "</table>"
      ],
      "text/plain": [
       "[('housing_location', 'CREATE TABLE `housing_location` (\\n  `location_id` int(11) NOT NULL,\\n  `longitude` float DEFAULT NULL,\\n  `latitude` float DEFAULT NULL,\\n  `ocean_proximity` varchar(50) DEFAULT NULL,\\n  PRIMARY KEY (`location_id`)\\n) ENGINE=InnoDB DEFAULT CHARSET=utf8mb4 COLLATE=utf8mb4_general_ci')]"
      ]
     },
     "execution_count": 20,
     "metadata": {},
     "output_type": "execute_result"
    }
   ],
   "source": [
    "%%sql\n",
    "\n",
    "SHOW CREATE TABLE housing_location;"
   ]
  },
  {
   "cell_type": "markdown",
   "id": "c7ad034d",
   "metadata": {},
   "source": [
    "# Advance Query pada Dataset"
   ]
  },
  {
   "cell_type": "markdown",
   "id": "497fd787",
   "metadata": {},
   "source": [
    "Lakukan advance query pada dataset tersebut untuk menemukan insight yang menarik"
   ]
  },
  {
   "cell_type": "markdown",
   "id": "ab4404bd",
   "metadata": {},
   "source": [
    "Menghitung rata-rata median_house_value berdasarkan ocean_proximity:"
   ]
  },
  {
   "cell_type": "code",
   "execution_count": 21,
   "id": "a8b761b2",
   "metadata": {},
   "outputs": [
    {
     "name": "stdout",
     "output_type": "stream",
     "text": [
      " * mysql+mysqldb://root@localhost\n",
      "1 rows affected.\n"
     ]
    },
    {
     "data": {
      "text/html": [
       "<table>\n",
       "    <thead>\n",
       "        <tr>\n",
       "            <th>ocean_proximity</th>\n",
       "            <th>average_median_income</th>\n",
       "        </tr>\n",
       "    </thead>\n",
       "    <tbody>\n",
       "        <tr>\n",
       "            <td>Near Beach</td>\n",
       "            <td>5000.0</td>\n",
       "        </tr>\n",
       "    </tbody>\n",
       "</table>"
      ],
      "text/plain": [
       "[('Near Beach', 5000.0)]"
      ]
     },
     "execution_count": 21,
     "metadata": {},
     "output_type": "execute_result"
    }
   ],
   "source": [
    "%%sql\n",
    "SELECT ocean_proximity, AVG(median_income) AS average_median_income\n",
    "FROM housing_location\n",
    "JOIN housing_details ON housing_location.location_id = housing_details.location_id\n",
    "GROUP BY ocean_proximity;"
   ]
  },
  {
   "cell_type": "markdown",
   "id": "a3224c72",
   "metadata": {},
   "source": [
    " Melakukan query untuk menemukan jumlah total ruangan (total_rooms) dan total"
   ]
  },
  {
   "cell_type": "code",
   "execution_count": 22,
   "id": "328be922",
   "metadata": {},
   "outputs": [
    {
     "name": "stdout",
     "output_type": "stream",
     "text": [
      " * mysql+mysqldb://root@localhost\n",
      "1 rows affected.\n"
     ]
    },
    {
     "data": {
      "text/html": [
       "<table>\n",
       "    <thead>\n",
       "        <tr>\n",
       "            <th>housing_median_age</th>\n",
       "            <th>total_rooms</th>\n",
       "            <th>total_population</th>\n",
       "        </tr>\n",
       "    </thead>\n",
       "    <tbody>\n",
       "        <tr>\n",
       "            <td>20</td>\n",
       "            <td>100</td>\n",
       "            <td>200</td>\n",
       "        </tr>\n",
       "    </tbody>\n",
       "</table>"
      ],
      "text/plain": [
       "[(20, Decimal('100'), Decimal('200'))]"
      ]
     },
     "execution_count": 22,
     "metadata": {},
     "output_type": "execute_result"
    }
   ],
   "source": [
    "\n",
    "%%sql\n",
    "SELECT housing_median_age, SUM(total_rooms) AS total_rooms, SUM(population) AS total_population\n",
    "FROM housing_details\n",
    "GROUP BY housing_median_age\n",
    "ORDER BY housing_median_age;"
   ]
  },
  {
   "cell_type": "markdown",
   "id": "02432030",
   "metadata": {},
   "source": [
    "Melakukan query untuk menemukan rata-rata median_income dan median_house_value per jenis ocean_proximity\n"
   ]
  },
  {
   "cell_type": "code",
   "execution_count": 23,
   "id": "4e0e293e",
   "metadata": {},
   "outputs": [
    {
     "name": "stdout",
     "output_type": "stream",
     "text": [
      " * mysql+mysqldb://root@localhost\n",
      "1 rows affected.\n"
     ]
    },
    {
     "data": {
      "text/html": [
       "<table>\n",
       "    <thead>\n",
       "        <tr>\n",
       "            <th>ocean_proximity</th>\n",
       "            <th>average_median_income</th>\n",
       "            <th>average_median_house_value</th>\n",
       "        </tr>\n",
       "    </thead>\n",
       "    <tbody>\n",
       "        <tr>\n",
       "            <td>Near Beach</td>\n",
       "            <td>5000.0</td>\n",
       "            <td>200000.0</td>\n",
       "        </tr>\n",
       "    </tbody>\n",
       "</table>"
      ],
      "text/plain": [
       "[('Near Beach', 5000.0, 200000.0)]"
      ]
     },
     "execution_count": 23,
     "metadata": {},
     "output_type": "execute_result"
    }
   ],
   "source": [
    "%%sql\n",
    "SELECT ocean_proximity, AVG(median_income) AS average_median_income, AVG(median_house_value) AS average_median_house_value\n",
    "FROM housing_location\n",
    "JOIN housing_details ON housing_location.location_id = housing_details.location_id\n",
    "GROUP BY ocean_proximity;"
   ]
  },
  {
   "cell_type": "markdown",
   "id": "84e48baa",
   "metadata": {},
   "source": [
    "# User Management"
   ]
  },
  {
   "cell_type": "markdown",
   "id": "5ba4e709",
   "metadata": {},
   "source": [
    "Membuat pengguna user_root dengan hak akses penuh (GRANT ALL PRIVILEGES)"
   ]
  },
  {
   "cell_type": "code",
   "execution_count": 24,
   "id": "eaa65d87",
   "metadata": {},
   "outputs": [
    {
     "name": "stdout",
     "output_type": "stream",
     "text": [
      " * mysql+mysqldb://root@localhost\n",
      "0 rows affected.\n"
     ]
    },
    {
     "data": {
      "text/plain": [
       "[]"
      ]
     },
     "execution_count": 24,
     "metadata": {},
     "output_type": "execute_result"
    }
   ],
   "source": [
    "%%sql\n",
    "\n",
    "GRANT ALL PRIVILEGES ON databasetubes.* TO 'user_root'@'localhost';"
   ]
  },
  {
   "cell_type": "markdown",
   "id": "5e97e407",
   "metadata": {},
   "source": [
    "User Pertama"
   ]
  },
  {
   "cell_type": "markdown",
   "id": "56268dd8",
   "metadata": {},
   "source": [
    "Tidak dapat melakukan UPDATE"
   ]
  },
  {
   "cell_type": "code",
   "execution_count": 25,
   "id": "0b69d041",
   "metadata": {},
   "outputs": [
    {
     "name": "stdout",
     "output_type": "stream",
     "text": [
      " * mysql+mysqldb://root@localhost\n",
      "0 rows affected.\n"
     ]
    },
    {
     "data": {
      "text/plain": [
       "[]"
      ]
     },
     "execution_count": 25,
     "metadata": {},
     "output_type": "execute_result"
    }
   ],
   "source": [
    "%%sql\n",
    "\n",
    "GRANT SELECT ON databasetubes.* TO 'user_1'@'localhost';"
   ]
  },
  {
   "cell_type": "markdown",
   "id": "2811c797",
   "metadata": {},
   "source": [
    "User Kedua"
   ]
  },
  {
   "cell_type": "markdown",
   "id": "13a16194",
   "metadata": {},
   "source": [
    "Tidak dapat melakukan CREATE"
   ]
  },
  {
   "cell_type": "code",
   "execution_count": 26,
   "id": "99f64c27",
   "metadata": {},
   "outputs": [
    {
     "name": "stdout",
     "output_type": "stream",
     "text": [
      " * mysql+mysqldb://root@localhost\n",
      "0 rows affected.\n"
     ]
    },
    {
     "data": {
      "text/plain": [
       "[]"
      ]
     },
     "execution_count": 26,
     "metadata": {},
     "output_type": "execute_result"
    }
   ],
   "source": [
    "%%sql\n",
    "\n",
    "GRANT INSERT, UPDATE, DELETE ON databasetubes.* TO 'user_2'@'localhost';"
   ]
  },
  {
   "cell_type": "markdown",
   "id": "33bc2b86",
   "metadata": {},
   "source": [
    "HAK AKSES"
   ]
  },
  {
   "cell_type": "markdown",
   "id": "c41a3b9f",
   "metadata": {},
   "source": [
    "User Root"
   ]
  },
  {
   "cell_type": "code",
   "execution_count": 27,
   "id": "c4e2d0c5",
   "metadata": {},
   "outputs": [
    {
     "name": "stdout",
     "output_type": "stream",
     "text": [
      " * mysql+mysqldb://root@localhost\n",
      "2 rows affected.\n"
     ]
    },
    {
     "data": {
      "text/html": [
       "<table>\n",
       "    <thead>\n",
       "        <tr>\n",
       "            <th>Grants for user_root@localhost</th>\n",
       "        </tr>\n",
       "    </thead>\n",
       "    <tbody>\n",
       "        <tr>\n",
       "            <td>GRANT USAGE ON *.* TO `user_root`@`localhost` IDENTIFIED BY PASSWORD &#x27;*3DA1F2FC13F5799A662F1B86901FB60D96872C84&#x27;</td>\n",
       "        </tr>\n",
       "        <tr>\n",
       "            <td>GRANT ALL PRIVILEGES ON `databasetubes`.* TO `user_root`@`localhost`</td>\n",
       "        </tr>\n",
       "    </tbody>\n",
       "</table>"
      ],
      "text/plain": [
       "[(\"GRANT USAGE ON *.* TO `user_root`@`localhost` IDENTIFIED BY PASSWORD '*3DA1F2FC13F5799A662F1B86901FB60D96872C84'\",),\n",
       " ('GRANT ALL PRIVILEGES ON `databasetubes`.* TO `user_root`@`localhost`',)]"
      ]
     },
     "execution_count": 27,
     "metadata": {},
     "output_type": "execute_result"
    }
   ],
   "source": [
    "%%sql\n",
    "\n",
    "SHOW GRANTS FOR 'user_root'@'localhost';"
   ]
  },
  {
   "cell_type": "markdown",
   "id": "9cbfc3ca",
   "metadata": {},
   "source": [
    "User Pertama"
   ]
  },
  {
   "cell_type": "code",
   "execution_count": 28,
   "id": "ce5f1947",
   "metadata": {},
   "outputs": [
    {
     "name": "stdout",
     "output_type": "stream",
     "text": [
      " * mysql+mysqldb://root@localhost\n",
      "2 rows affected.\n"
     ]
    },
    {
     "data": {
      "text/html": [
       "<table>\n",
       "    <thead>\n",
       "        <tr>\n",
       "            <th>Grants for user_1@localhost</th>\n",
       "        </tr>\n",
       "    </thead>\n",
       "    <tbody>\n",
       "        <tr>\n",
       "            <td>GRANT USAGE ON *.* TO `user_1`@`localhost`</td>\n",
       "        </tr>\n",
       "        <tr>\n",
       "            <td>GRANT SELECT ON `databasetubes`.* TO `user_1`@`localhost`</td>\n",
       "        </tr>\n",
       "    </tbody>\n",
       "</table>"
      ],
      "text/plain": [
       "[('GRANT USAGE ON *.* TO `user_1`@`localhost`',),\n",
       " ('GRANT SELECT ON `databasetubes`.* TO `user_1`@`localhost`',)]"
      ]
     },
     "execution_count": 28,
     "metadata": {},
     "output_type": "execute_result"
    }
   ],
   "source": [
    "%%sql\n",
    "\n",
    "SHOW GRANTS FOR 'user_1'@'localhost';"
   ]
  },
  {
   "cell_type": "markdown",
   "id": "0be7185e",
   "metadata": {},
   "source": [
    "User Kedua"
   ]
  },
  {
   "cell_type": "code",
   "execution_count": 29,
   "id": "8033d008",
   "metadata": {},
   "outputs": [
    {
     "name": "stdout",
     "output_type": "stream",
     "text": [
      " * mysql+mysqldb://root@localhost\n",
      "2 rows affected.\n"
     ]
    },
    {
     "data": {
      "text/html": [
       "<table>\n",
       "    <thead>\n",
       "        <tr>\n",
       "            <th>Grants for user_2@localhost</th>\n",
       "        </tr>\n",
       "    </thead>\n",
       "    <tbody>\n",
       "        <tr>\n",
       "            <td>GRANT USAGE ON *.* TO `user_2`@`localhost`</td>\n",
       "        </tr>\n",
       "        <tr>\n",
       "            <td>GRANT INSERT, UPDATE, DELETE ON `databasetubes`.* TO `user_2`@`localhost`</td>\n",
       "        </tr>\n",
       "    </tbody>\n",
       "</table>"
      ],
      "text/plain": [
       "[('GRANT USAGE ON *.* TO `user_2`@`localhost`',),\n",
       " ('GRANT INSERT, UPDATE, DELETE ON `databasetubes`.* TO `user_2`@`localhost`',)]"
      ]
     },
     "execution_count": 29,
     "metadata": {},
     "output_type": "execute_result"
    }
   ],
   "source": [
    "%%sql\n",
    "\n",
    "SHOW GRANTS FOR 'user_2'@'localhost';"
   ]
  },
  {
   "cell_type": "code",
   "execution_count": null,
   "id": "20b6534d",
   "metadata": {},
   "outputs": [],
   "source": []
  },
  {
   "cell_type": "code",
   "execution_count": null,
   "id": "12395b9b",
   "metadata": {},
   "outputs": [],
   "source": []
  }
 ],
 "metadata": {
  "kernelspec": {
   "display_name": "Python 3 (ipykernel)",
   "language": "python",
   "name": "python3"
  },
  "language_info": {
   "codemirror_mode": {
    "name": "ipython",
    "version": 3
   },
   "file_extension": ".py",
   "mimetype": "text/x-python",
   "name": "python",
   "nbconvert_exporter": "python",
   "pygments_lexer": "ipython3",
   "version": "3.10.9"
  }
 },
 "nbformat": 4,
 "nbformat_minor": 5
}
